{
  "nbformat": 4,
  "nbformat_minor": 0,
  "metadata": {
    "colab": {
      "provenance": [],
      "authorship_tag": "ABX9TyN019B28eD2svXBc/iQPxbG",
      "include_colab_link": true
    },
    "kernelspec": {
      "name": "python3",
      "display_name": "Python 3"
    },
    "language_info": {
      "name": "python"
    }
  },
  "cells": [
    {
      "cell_type": "markdown",
      "metadata": {
        "id": "view-in-github",
        "colab_type": "text"
      },
      "source": [
        "<a href=\"https://colab.research.google.com/github/Abhilash-Gaju/Gen-AI/blob/main/GEN_AI_LAB_01.ipynb\" target=\"_parent\"><img src=\"https://colab.research.google.com/assets/colab-badge.svg\" alt=\"Open In Colab\"/></a>"
      ]
    },
    {
      "cell_type": "code",
      "execution_count": 1,
      "metadata": {
        "id": "Vprb2nhXXVof"
      },
      "outputs": [],
      "source": [
        "import math"
      ]
    },
    {
      "cell_type": "code",
      "source": [
        "Y_actual = [20, 30, 40, 50, 60]\n",
        "y_Pred = [20.5, 30.3, 40.2, 50.6, 60.7]\n",
        "mean_actual = 0\n",
        "for i in range(len(Y_actual)):\n",
        "  mean_actual += Y_actual[i]\n",
        "\n",
        "mean_actual = mean_actual/len(Y_actual)\n",
        "print(\"Mean of actual values:\", mean_actual)"
      ],
      "metadata": {
        "colab": {
          "base_uri": "https://localhost:8080/"
        },
        "id": "mKByz0pZXX86",
        "outputId": "e933f2e6-7838-4307-cbe0-e9931d5f5228"
      },
      "execution_count": 2,
      "outputs": [
        {
          "output_type": "stream",
          "name": "stdout",
          "text": [
            "Mean of actual values: 40.0\n"
          ]
        }
      ]
    },
    {
      "cell_type": "code",
      "source": [
        "squared_diff =[]\n",
        "for i in range(len(Y_actual)):\n",
        "  squared_diff.append((Y_actual[i] - y_Pred[i]) ** 2)\n",
        "mse = sum(squared_diff) / len(Y_actual)\n",
        "rmse = math.sqrt(mse)\n",
        "\n",
        "print(\"RMSE:\", rmse)\n",
        "print(\"mse :\",mse)"
      ],
      "metadata": {
        "id": "31I75voGXd0V",
        "outputId": "584c8d0e-5ea4-4373-d25f-f5af9afac10f",
        "colab": {
          "base_uri": "https://localhost:8080/"
        }
      },
      "execution_count": 3,
      "outputs": [
        {
          "output_type": "stream",
          "name": "stdout",
          "text": [
            "RMSE: 0.49598387070549127\n",
            "mse : 0.24600000000000147\n"
          ]
        }
      ]
    },
    {
      "cell_type": "code",
      "source": [
        "mae =[]\n",
        "for i in range(len(Y_actual)):\n",
        "  mae.append((Y_actual[i] -y_Pred[i]))\n",
        "MAE = sum(mae) / len(Y_actual)\n",
        "print(\"MAE:\", abs(MAE))"
      ],
      "metadata": {
        "id": "scFnCL5WXhde",
        "outputId": "770497d6-8c0f-4b97-9556-ce0ddcd51c61",
        "colab": {
          "base_uri": "https://localhost:8080/"
        }
      },
      "execution_count": 4,
      "outputs": [
        {
          "output_type": "stream",
          "name": "stdout",
          "text": [
            "MAE: 0.4600000000000016\n"
          ]
        }
      ]
    }
  ]
}